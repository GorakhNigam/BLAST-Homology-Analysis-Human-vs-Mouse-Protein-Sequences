{
  "cells": [
    {
      "cell_type": "code",
      "execution_count": 1,
      "metadata": {
        "colab": {
          "base_uri": "https://localhost:8080/"
        },
        "id": "HZ2tV8irGUBv",
        "outputId": "f41daf7b-9fe9-4a57-cd24-777419815a58"
      },
      "outputs": [
        {
          "name": "stdout",
          "output_type": "stream",
          "text": [
            "Mounted at /content/drive\n"
          ]
        }
      ],
      "source": [
        "from google.colab import drive\n",
        "drive.mount('/content/drive')"
      ]
    },
    {
      "cell_type": "code",
      "execution_count": 2,
      "metadata": {
        "colab": {
          "base_uri": "https://localhost:8080/"
        },
        "id": "BdWLWJvyGmlD",
        "outputId": "48951a39-6fe7-47af-fcd5-8a2f060f6630"
      },
      "outputs": [
        {
          "name": "stdout",
          "output_type": "stream",
          "text": [
            "Collecting biopython\n",
            "  Downloading biopython-1.85-cp312-cp312-manylinux_2_17_x86_64.manylinux2014_x86_64.whl.metadata (13 kB)\n",
            "Requirement already satisfied: numpy in /usr/local/lib/python3.12/dist-packages (from biopython) (2.0.2)\n",
            "Downloading biopython-1.85-cp312-cp312-manylinux_2_17_x86_64.manylinux2014_x86_64.whl (3.3 MB)\n",
            "\u001b[?25l   \u001b[90m━━━━━━━━━━━━━━━━━━━━━━━━━━━━━━━━━━━━━━━━\u001b[0m \u001b[32m0.0/3.3 MB\u001b[0m \u001b[31m?\u001b[0m eta \u001b[36m-:--:--\u001b[0m\r\u001b[2K   \u001b[91m━━━━━━━━━━━━━━\u001b[0m\u001b[90m╺\u001b[0m\u001b[90m━━━━━━━━━━━━━━━━━━━━━━━━━\u001b[0m \u001b[32m1.2/3.3 MB\u001b[0m \u001b[31m36.1 MB/s\u001b[0m eta \u001b[36m0:00:01\u001b[0m\r\u001b[2K   \u001b[90m━━━━━━━━━━━━━━━━━━━━━━━━━━━━━━━━━━━━━━━━\u001b[0m \u001b[32m3.3/3.3 MB\u001b[0m \u001b[31m47.8 MB/s\u001b[0m eta \u001b[36m0:00:00\u001b[0m\n",
            "\u001b[?25hInstalling collected packages: biopython\n",
            "Successfully installed biopython-1.85\n",
            "/bin/bash: line 1: brew: command not found\n",
            "Get:1 https://cloud.r-project.org/bin/linux/ubuntu jammy-cran40/ InRelease [3,632 B]\n",
            "Get:2 https://cli.github.com/packages stable InRelease [3,917 B]\n",
            "Get:3 https://developer.download.nvidia.com/compute/cuda/repos/ubuntu2204/x86_64  InRelease [1,581 B]\n",
            "Get:4 http://security.ubuntu.com/ubuntu jammy-security InRelease [129 kB]\n",
            "Hit:5 https://r2u.stat.illinois.edu/ubuntu jammy InRelease\n",
            "Get:6 https://developer.download.nvidia.com/compute/cuda/repos/ubuntu2204/x86_64  Packages [2,086 kB]\n",
            "Hit:7 http://archive.ubuntu.com/ubuntu jammy InRelease\n",
            "Get:8 http://archive.ubuntu.com/ubuntu jammy-updates InRelease [128 kB]\n",
            "Hit:9 https://ppa.launchpadcontent.net/deadsnakes/ppa/ubuntu jammy InRelease\n",
            "Hit:10 https://ppa.launchpadcontent.net/graphics-drivers/ppa/ubuntu jammy InRelease\n",
            "Get:11 http://security.ubuntu.com/ubuntu jammy-security/universe amd64 Packages [1,288 kB]\n",
            "Hit:12 https://ppa.launchpadcontent.net/ubuntugis/ppa/ubuntu jammy InRelease\n",
            "Get:13 http://security.ubuntu.com/ubuntu jammy-security/main amd64 Packages [3,479 kB]\n",
            "Get:14 http://archive.ubuntu.com/ubuntu jammy-backports InRelease [127 kB]\n",
            "Get:15 http://security.ubuntu.com/ubuntu jammy-security/restricted amd64 Packages [5,878 kB]\n",
            "Get:16 http://archive.ubuntu.com/ubuntu jammy-updates/universe amd64 Packages [1,594 kB]\n",
            "Get:17 http://archive.ubuntu.com/ubuntu jammy-updates/restricted amd64 Packages [6,064 kB]\n",
            "Get:18 http://archive.ubuntu.com/ubuntu jammy-updates/main amd64 Packages [3,805 kB]\n",
            "Fetched 24.6 MB in 3s (7,566 kB/s)\n",
            "Reading package lists... Done\n",
            "W: Skipping acquire of configured file 'main/source/Sources' as repository 'https://r2u.stat.illinois.edu/ubuntu jammy InRelease' does not seem to provide it (sources.list entry misspelt?)\n",
            "Reading package lists... Done\n",
            "Building dependency tree... Done\n",
            "Reading state information... Done\n",
            "The following additional packages will be installed:\n",
            "  ncbi-data\n",
            "The following NEW packages will be installed:\n",
            "  ncbi-blast+ ncbi-data\n",
            "0 upgraded, 2 newly installed, 0 to remove and 38 not upgraded.\n",
            "Need to get 15.8 MB of archives.\n",
            "After this operation, 71.8 MB of additional disk space will be used.\n",
            "Get:1 http://archive.ubuntu.com/ubuntu jammy/universe amd64 ncbi-data all 6.1.20170106+dfsg1-9 [3,519 kB]\n",
            "Get:2 http://archive.ubuntu.com/ubuntu jammy/universe amd64 ncbi-blast+ amd64 2.12.0+ds-3build1 [12.3 MB]\n",
            "Fetched 15.8 MB in 2s (8,095 kB/s)\n",
            "Selecting previously unselected package ncbi-data.\n",
            "(Reading database ... 126718 files and directories currently installed.)\n",
            "Preparing to unpack .../ncbi-data_6.1.20170106+dfsg1-9_all.deb ...\n",
            "Unpacking ncbi-data (6.1.20170106+dfsg1-9) ...\n",
            "Selecting previously unselected package ncbi-blast+.\n",
            "Preparing to unpack .../ncbi-blast+_2.12.0+ds-3build1_amd64.deb ...\n",
            "Unpacking ncbi-blast+ (2.12.0+ds-3build1) ...\n",
            "Setting up ncbi-data (6.1.20170106+dfsg1-9) ...\n",
            "Setting up ncbi-blast+ (2.12.0+ds-3build1) ...\n",
            "Processing triggers for man-db (2.10.2-1) ...\n",
            "Processing triggers for hicolor-icon-theme (0.17-2) ...\n",
            "Requirement already satisfied: biopython in /usr/local/lib/python3.12/dist-packages (1.85)\n",
            "Requirement already satisfied: numpy in /usr/local/lib/python3.12/dist-packages (from biopython) (2.0.2)\n",
            "blastp: 2.12.0+\n",
            " Package: blast 2.12.0, build Mar  8 2022 16:19:08\n",
            "makeblastdb: 2.12.0+\n",
            " Package: blast 2.12.0, build Mar  8 2022 16:19:08\n"
          ]
        }
      ],
      "source": [
        "!pip install biopython\n",
        "!brew install blast\n",
        "# Install BLAST and required bioinformatics tools\n",
        "!apt-get update\n",
        "!apt-get install -y ncbi-blast+\n",
        "!pip install biopython\n",
        "# Verify installation\n",
        "!blastp -version\n",
        "!makeblastdb -version"
      ]
    },
    {
      "cell_type": "code",
      "execution_count": 25,
      "metadata": {
        "id": "Uj1U6dC8HZ3D"
      },
      "outputs": [],
      "source": [
        "# # Import all required libraries\n",
        "from Bio.Blast.Applications import NcbiblastpCommandline, NcbiblastxCommandline\n",
        "from Bio import SeqIO\n",
        "from Bio.Blast import NCBIWWW\n",
        "import subprocess\n",
        "import os\n",
        "import tempfile\n",
        "import pandas as pd\n",
        "from IPython.display import display, HTML\n",
        "import time\n",
        "from io import StringIO"
      ]
    },
    {
      "cell_type": "code",
      "execution_count": null,
      "metadata": {
        "colab": {
          "base_uri": "https://localhost:8080/"
        },
        "id": "C0MiDU2oI7p4",
        "outputId": "f8c1c0b8-46c9-46ed-8235-4052e1389821"
      },
      "outputs": [
        {
          "name": "stdout",
          "output_type": "stream",
          "text": [
            "Found 13 human sequences\n",
            "\n",
            "First 3 human sequences:\n",
            "  1. STAU1 - Length: 577\n",
            "  2. NRAS - Length: 189\n",
            "  3. HRAS - Length: 189\n",
            "  4. SLC30A10 - Length: 496\n",
            "  5. CTSV - Length: 334\n",
            "  6. SFRS4 - Length: 494\n",
            "  7. GABRG2 - Length: 467\n",
            "  8. PCDH1 - Length: 1060\n",
            "  9. CAMK1G - Length: 476\n",
            "  10. ADCYAP1 - Length: 315\n",
            "  11. PPP2R5D - Length: 602\n",
            "  12. MLLT3 - Length: 607\n",
            "  13. VN1R3 - Length: 311\n"
          ]
        }
      ],
      "source": [
        "# Step 1: Parse human sequences\n",
        "path = ''\n",
        "human_fasta = path+\"human.fa\"\n",
        "mouse_fasta = path+\"mouse.fa\"\n",
        "\n",
        "human_sequences = list(SeqIO.parse(human_fasta, \"fasta\"))\n",
        "print(f\"Found {len(human_sequences)} human sequences\")\n",
        "\n",
        "# Display first few sequences\n",
        "print(\"\\nFirst 3 human sequences:\")\n",
        "for i, seq in enumerate(human_sequences):\n",
        "    print(f\"  {i+1}. {seq.id} - Length: {len(seq.seq)}\")"
      ]
    },
    {
      "cell_type": "code",
      "execution_count": 28,
      "metadata": {
        "id": "Lb1YY6apa5S3"
      },
      "outputs": [],
      "source": [
        "def determine_sequence_type(sp_sequences):\n",
        "    try:\n",
        "        sequences = sp_sequences\n",
        "        if not sequences:\n",
        "            return \"unknown\", \"No sequences found\"\n",
        "\n",
        "        first_seq = str(sequences[0].seq)\n",
        "\n",
        "        clean_seq = first_seq.upper().replace('-', '').replace('*', '').replace('X', '')\n",
        "\n",
        "        if not clean_seq:  # Empty sequence\n",
        "            return \"unknown\", \"Empty sequence\"\n",
        "\n",
        "        nucleotide_chars = set('ATCGN')\n",
        "        protein_chars = set('ACDEFGHIKLMNPQRSTVWY')\n",
        "\n",
        "        seq_chars = set(clean_seq)\n",
        "\n",
        "        nucleotide_count = sum(1 for c in clean_seq if c in nucleotide_chars)\n",
        "        nucleotide_ratio = nucleotide_count / len(clean_seq)\n",
        "\n",
        "        protein_count = sum(1 for c in clean_seq if c in protein_chars)\n",
        "        protein_ratio = protein_count / len(clean_seq)\n",
        "\n",
        "        print(f\"  Sequence analysis: {len(clean_seq)} chars, \"\n",
        "              f\"nucleotide_ratio: {nucleotide_ratio:.3f}, \"\n",
        "              f\"protein_ratio: {protein_ratio:.3f}\")\n",
        "\n",
        "        if nucleotide_ratio > 0.9 and protein_ratio < 0.5:\n",
        "            return \"nucleotide\", f\"Primarily nucleotide chars ({nucleotide_ratio:.1%})\"\n",
        "        elif protein_ratio > 0.9 and nucleotide_ratio < 0.5:\n",
        "            return \"protein\", f\"Primarily protein chars ({protein_ratio:.1%})\"\n",
        "        else:\n",
        "            if any(c in 'EFILPQ' for c in clean_seq):\n",
        "                return \"protein\", \"Contains amino-acid specific characters\"\n",
        "            elif len(clean_seq) % 3 == 0 and nucleotide_ratio > 0.7:\n",
        "                return \"nucleotide\", \"Length divisible by 3 and primarily ATCG\"\n",
        "            else:\n",
        "                return \"ambiguous\", f\"Could not reliably determine (nuc: {nucleotide_ratio:.1%}, prot: {protein_ratio:.1%})\"\n",
        "\n",
        "    except Exception as e:\n",
        "        return \"error\", f\"Error analyzing: {str(e)}\"\n",
        "\n",
        "def select_blast_program(query_type, db_type):\n",
        "    \"\"\"Select the appropriate BLAST program based on query and database types\"\"\"\n",
        "    program_map = {\n",
        "        ('protein', 'protein'): ('blastp', 'prot'),\n",
        "        ('nucleotide', 'nucleotide'): ('blastn', 'nucl'),\n",
        "        ('nucleotide', 'protein'): ('blastx', 'prot'),  # Translates nucleotide query\n",
        "        ('protein', 'nucleotide'): ('tblastn', 'nucl')  # Translates nucleotide database\n",
        "    }\n",
        "\n",
        "    return program_map.get((query_type, db_type), ('blastp', 'prot'))"
      ]
    },
    {
      "cell_type": "code",
      "execution_count": 29,
      "metadata": {
        "colab": {
          "base_uri": "https://localhost:8080/"
        },
        "id": "Ejhvjl0PLfQL",
        "outputId": "40362f98-f1b7-409e-9bc6-c1ab2dc19cd0"
      },
      "outputs": [
        {
          "name": "stdout",
          "output_type": "stream",
          "text": [
            "  Sequence analysis: 577 chars, nucleotide_ratio: 0.260, protein_ratio: 1.000\n",
            "Selected BLAST program: blastp (database type: prot)\n",
            " BLAST database created successfully\n"
          ]
        }
      ],
      "source": [
        "# Step 3: Create BLAST database\n",
        "mouse_sequences = list(SeqIO.parse(mouse_fasta, \"fasta\"))\n",
        "human_type, human_reason = determine_sequence_type(human_sequences)\n",
        "mouse_type, mouse_reason = determine_sequence_type(mouse_fasta)\n",
        "\n",
        "blast_program, db_type = select_blast_program(human_type, mouse_type)\n",
        "print(f\"Selected BLAST program: {blast_program} (database type: {db_type})\")\n",
        "\n",
        "db_name = \"mouse_db\"\n",
        "\n",
        "make_db_cmd = [\n",
        "    \"makeblastdb\",\n",
        "    \"-in\", mouse_fasta,\n",
        "    \"-dbtype\", db_type,\n",
        "    \"-out\", db_name,\n",
        "    \"-parse_seqids\"\n",
        "]\n",
        "\n",
        "result = subprocess.run(make_db_cmd, capture_output=True, text=True)\n",
        "\n",
        "if result.returncode == 0:\n",
        "    print(\" BLAST database created successfully\")\n",
        "else:\n",
        "    print(f\" Error creating database: {result.stderr}\")\n",
        "    # Check if database files exist\n",
        "    db_files = [f\"{db_name}.{ext}\" for ext in ([\"nhr\", \"nin\", \"nog\"] if db_type == \"nucl\" else [\"phr\", \"pin\", \"pog\"])]\n",
        "    existing_files = [f for f in db_files if os.path.exists(f)]\n",
        "    if existing_files:\n",
        "        print(f\" Using existing database files\")\n",
        "    else:\n",
        "        print(\" Cannot proceed without database\")"
      ]
    },
    {
      "cell_type": "code",
      "execution_count": 30,
      "metadata": {
        "colab": {
          "base_uri": "https://localhost:8080/"
        },
        "id": "h0m5pUNbMCYb",
        "outputId": "315e95b0-f832-4cd2-e42a-4c8da6697bf5"
      },
      "outputs": [
        {
          "data": {
            "text/plain": [
              "CompletedProcess(args=['makeblastdb', '-in', '/content/drive/MyDrive/Biomedical_DS/homework3/mouse.fa', '-dbtype', 'prot', '-out', 'mouse_db', '-parse_seqids'], returncode=0, stdout='\\n\\nBuilding a new DB, current time: 10/28/2025 02:51:39\\nNew DB name:   /content/mouse_db\\nNew DB title:  /content/drive/MyDrive/Biomedical_DS/homework3/mouse.fa\\nSequence type: Protein\\nDeleted existing Protein BLAST database named /content/mouse_db\\nKeep MBits: T\\nMaximum file size: 1000000000B\\nAdding sequences from FASTA; added 17489 sequences in 0.88258 seconds.\\n\\n\\n', stderr='')"
            ]
          },
          "execution_count": 30,
          "metadata": {},
          "output_type": "execute_result"
        }
      ],
      "source": [
        "result"
      ]
    },
    {
      "cell_type": "code",
      "execution_count": 31,
      "metadata": {
        "colab": {
          "base_uri": "https://localhost:8080/"
        },
        "id": "Q0voAgeXMHhE",
        "outputId": "c2f73f04-0fc1-41fb-dd2d-996f1b1b797c"
      },
      "outputs": [
        {
          "name": "stdout",
          "output_type": "stream",
          "text": [
            "\n",
            " Running BLAST searches...\n",
            "  Processing 1/13: STAU1\n",
            " Warning: Warning: [blastp] Examining 5 or more matches is recommended\n",
            " Found: sp|Q9Z108|STAU1_MOUSE (E-value: 0.0, Identity: 91.207%)\n",
            "  Processing 2/13: NRAS\n",
            " Warning: Warning: [blastp] Examining 5 or more matches is recommended\n",
            " Found: sp|P08556|RASN_MOUSE (E-value: 2.81e-144, Identity: 98.413%)\n",
            "  Processing 3/13: HRAS\n",
            " Warning: Warning: [blastp] Examining 5 or more matches is recommended\n",
            " Found: sp|Q61411|RASH_MOUSE (E-value: 1.15e-146, Identity: 100.000%)\n",
            "  Processing 4/13: SLC30A10\n",
            " Warning: Warning: [blastp] Examining 5 or more matches is recommended\n",
            " Found: sp|Q3UVU3|ZNT10_MOUSE (E-value: 0.0, Identity: 76.210%)\n",
            "  Processing 5/13: CTSV\n",
            " Warning: Warning: [blastp] Examining 5 or more matches is recommended\n",
            " Found: sp|P06797|CATL1_MOUSE (E-value: 0.0, Identity: 75.449%)\n",
            "  Processing 6/13: SFRS4\n",
            " Warning: Warning: [blastp] Examining 5 or more matches is recommended\n",
            " Found: sp|Q8VE97|SRSF4_MOUSE (E-value: 3.02e-153, Identity: 94.737%)\n",
            "  Processing 7/13: GABRG2\n",
            " Warning: Warning: [blastp] Examining 5 or more matches is recommended\n",
            " Found: sp|P22723|GBRG2_MOUSE (E-value: 0.0, Identity: 97.474%)\n",
            "  Processing 8/13: PCDH1\n",
            " Warning: Warning: [blastp] Examining 5 or more matches is recommended\n",
            " Found: sp|Q8BIZ0|PCD20_MOUSE (E-value: 6.74e-128, Identity: 34.977%)\n",
            "  Processing 9/13: CAMK1G\n",
            " Warning: Warning: [blastp] Examining 5 or more matches is recommended\n",
            " Found: sp|Q91VB2|KCC1G_MOUSE (E-value: 0.0, Identity: 92.034%)\n",
            "  Processing 10/13: ADCYAP1\n",
            " Warning: Warning: [blastp] Examining 5 or more matches is recommended\n",
            " Found: sp|O70176|PACA_MOUSE (E-value: 5.74e-97, Identity: 82.386%)\n",
            "  Processing 11/13: PPP2R5D\n",
            " Warning: Warning: [blastp] Examining 5 or more matches is recommended\n",
            " Found: sp|Q60996|2A5G_MOUSE (E-value: 0.0, Identity: 82.077%)\n",
            "  Processing 12/13: MLLT3\n",
            " Warning: Warning: [blastp] Examining 5 or more matches is recommended\n",
            " Found: sp|A2AM29|AF9_MOUSE (E-value: 0.0, Identity: 98.407%)\n",
            "  Processing 13/13: VN1R3\n",
            " Warning: Warning: [blastp] Examining 5 or more matches is recommended\n",
            " Found: sp|Q8VIC7|V1R45_MOUSE (E-value: 7.27e-24, Identity: 32.753%)\n"
          ]
        }
      ],
      "source": [
        "# Step 4: Run BLAST for each human sequence\n",
        "print(f\"\\n Running BLAST searches...\")\n",
        "\n",
        "results_data = []\n",
        "\n",
        "for i, human_seq in enumerate(human_sequences):\n",
        "    print(f\"  Processing {i+1}/{len(human_sequences)}: {human_seq.id}\")\n",
        "\n",
        "    # Create temporary file for query sequence\n",
        "    with tempfile.NamedTemporaryFile(mode='w', suffix='.fasta', delete=False) as temp_file:\n",
        "        SeqIO.write(human_seq, temp_file.name, \"fasta\")\n",
        "        temp_path = temp_file.name\n",
        "\n",
        "    try:\n",
        "        # Choose BLAST program based on database type\n",
        "        if db_type == \"prot\":\n",
        "            blast_cline = NcbiblastpCommandline(\n",
        "                query=temp_path,\n",
        "                db=db_name,\n",
        "                evalue=0.001,\n",
        "                outfmt=\"6 qseqid sseqid evalue bitscore length pident qcovs\",\n",
        "                max_target_seqs=1,\n",
        "                matrix=\"BLOSUM80\",\n",
        "                gapopen=11,\n",
        "                gapextend=1\n",
        "            )\n",
        "        else:\n",
        "            blast_cline = NcbiblastxCommandline(\n",
        "                query=temp_path,\n",
        "                db=db_name,\n",
        "                evalue=0.001,\n",
        "                outfmt=\"6 qseqid sseqid evalue bitscore length pident qcovs\",\n",
        "                max_target_seqs=1,\n",
        "                matrix=\"BLOSUM80\",\n",
        "                gapopen=11,\n",
        "                gapextend=1\n",
        "            )\n",
        "\n",
        "        stdout, stderr = blast_cline()\n",
        "\n",
        "        if stderr:\n",
        "            print(f\" Warning: {stderr.strip()}\")\n",
        "\n",
        "        if stdout.strip():\n",
        "            lines = stdout.strip().split('\\n')\n",
        "            for line in lines:\n",
        "                if line and not line.startswith(\"#\"):\n",
        "                    fields = line.split('\\t')\n",
        "                    if len(fields) >= 7:\n",
        "                        result_entry = {\n",
        "                            'Human_ID': human_seq.id,\n",
        "                            'Mouse_Homolog_ID': fields[1],\n",
        "                            'E-value': float(fields[2]),\n",
        "                            'Bitscore': float(fields[3]),\n",
        "                            'Alignment_Length': int(fields[4]),\n",
        "                            'Percent_Identity': float(fields[5]),\n",
        "                            'Query_Coverage': float(fields[6])\n",
        "                        }\n",
        "                        results_data.append(result_entry)\n",
        "                        print(f\" Found: {fields[1]} (E-value: {fields[2]}, Identity: {fields[5]}%)\")\n",
        "        else:\n",
        "            print(f\" No significant hits found\")\n",
        "\n",
        "    except Exception as e:\n",
        "        print(f\" Error: {str(e)}\")\n",
        "    finally:\n",
        "        # Clean up temporary file\n",
        "        if os.path.exists(temp_path):\n",
        "            os.unlink(temp_path)\n"
      ]
    },
    {
      "cell_type": "code",
      "execution_count": 32,
      "metadata": {
        "colab": {
          "base_uri": "https://localhost:8080/"
        },
        "id": "ZFQzp9MOOnWI",
        "outputId": "71dd0ead-e61a-4227-c2ed-bcef31571517"
      },
      "outputs": [
        {
          "name": "stdout",
          "output_type": "stream",
          "text": [
            "\n",
            " Results saved to: /content/drive/MyDrive/Biomedical_DS/homework3/blast_results.csv\n",
            " Total homolog pairs found: 13\n",
            "\n",
            " Summary Statistics:\n",
            "   Average E-value: 5.59e-25\n",
            "   Average Identity: 81.24%\n",
            "   Best Identity: 100.00%\n",
            "   Best E-value: 0.00e+00\n"
          ]
        }
      ],
      "source": [
        "# Step 5: Save results\n",
        "output_file=path+\"blast_results.csv\"\n",
        "if results_data:\n",
        "    df = pd.DataFrame(results_data)\n",
        "    df.to_csv(output_file, sep='\\t', index=False)\n",
        "    print(f\"\\n Results saved to: {output_file}\")\n",
        "    print(f\" Total homolog pairs found: {len(results_data)}\")\n",
        "\n",
        "    print(f\"\\n Summary Statistics:\")\n",
        "    print(f\"   Average E-value: {df['E-value'].mean():.2e}\")\n",
        "    print(f\"   Average Identity: {df['Percent_Identity'].mean():.2f}%\")\n",
        "    print(f\"   Best Identity: {df['Percent_Identity'].max():.2f}%\")\n",
        "    print(f\"   Best E-value: {df['E-value'].min():.2e}\")\n",
        "else:\n",
        "    print(\" No homologs found in the analysis\")"
      ]
    },
    {
      "cell_type": "markdown",
      "metadata": {
        "id": "mNmTZvUGeSKi"
      },
      "source": []
    },
    {
      "cell_type": "markdown",
      "metadata": {
        "id": "ldyoZYh8fRsu"
      },
      "source": [
        "# Parameter explanation\n",
        "BLAST PARAMETER CHOICES EXPLANATION\n",
        "\n",
        "Sequence type detection:\n",
        "• I Checked both human (query) and mouse (database) sequences\n",
        "• Automatically selects the correct BLAST program based on percentage of presence of nucleotide and protien character\n",
        "\n",
        "Here is the logic behind choosing BLAST algorithm:   \n",
        "• blastp:    Protein query vs Protein database   \n",
        "• blastn:    Nucleotide query vs Nucleotide database.  \n",
        "• blastx:    Nucleotide query vs Protein database (translates query in all frames)  \n",
        "• tblastn:   Protein query vs Nucleotide database (translates database in all frames)\n",
        "\n",
        "\n",
        "(i) **BLAST Program**: Auto-selected based on sequence types.\n",
        "    In our case both query and database sequences were protien, so I chose blastp algorithm.\n",
        "\n",
        "(ii) **Substitution Matrix:**   \n",
        "    Out of BLOSUM and PAM, I choose BLOSUM as:  \n",
        "    • Protein comparisons: BLOSUM62 (standard for evolutionary relationships), initially tested with this and got an average identity of 80.45%.\n",
        "  ##### As BLOSUM matrices are numbered by the percent identity threshold used:\n",
        "    BLOSUM30 = sequences with ≤30% identity  # Very distant relationships\n",
        "    BLOSUM45 = sequences with ≤45% identity  # Distant relationships  \n",
        "    BLOSUM62 = sequences with ≤62% identity  # Moderate relationships\n",
        "    BLOSUM80 = sequences with ≤80% identity  # Close relationships\n",
        "    BLOSUM90 = sequences with ≤90% identity  # Very close relationships\n",
        "\n",
        "##### Why BLOSUM80?\n",
        "#####• As shown in the summary statistics Human and mouse share ~80% protein identity, looking at this high similarity score, I switched to BLOSUM80 from BLOSUM62 which improved the similary score from 80.45% to 81.24.   \n",
        "##### • BLOSUM80 is ideal for detecting high evolutionary relationships\n",
        "\n",
        "(iii) **Key Parameters:  **\n",
        "    • E-value threshold: 0.001 - Standard for significant homology. 0.001 means we expect 0.001 random matches by chance (1 in 1000). This also balances sensitivity (finding true homologs) vs specificity (avoiding false positives)  \n",
        "    • max_target_seqs: 1 - Top homolog only as requested. We only need the single best match for each human sequence. Improves efficiency and reduces output size.  \n",
        "    • Gap penalties: Appropriate for sequence type (protein vs nucleotide). Higher gap opening penalty gapopen=11 discourages introducing gaps. Lower gap extension penalty gapextend=1 allows existing gaps to extend slightly."
      ]
    },
    {
      "cell_type": "code",
      "execution_count": null,
      "metadata": {
        "id": "ztzzWt7AfQkx"
      },
      "outputs": [],
      "source": []
    }
  ],
  "metadata": {
    "colab": {
      "provenance": []
    },
    "kernelspec": {
      "display_name": "Python 3",
      "name": "python3"
    },
    "language_info": {
      "name": "python"
    }
  },
  "nbformat": 4,
  "nbformat_minor": 0
}
